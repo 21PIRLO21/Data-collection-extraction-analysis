{
 "cells": [
  {
   "cell_type": "markdown",
   "metadata": {},
   "source": [
    "#  Extract Chinese keywords\n",
    "* 单一大篇幅文本关键词的提取"
   ]
  },
  {
   "cell_type": "code",
   "execution_count": 1,
   "metadata": {},
   "outputs": [],
   "source": [
    "from jieba.analyse import *"
   ]
  },
  {
   "cell_type": "code",
   "execution_count": 2,
   "metadata": {},
   "outputs": [],
   "source": [
    "with open('sample.txt') as f:\n",
    "    data = f.read()"
   ]
  },
  {
   "cell_type": "markdown",
   "metadata": {},
   "source": [
    "## TF-idf(Term Frequency - inverse document frequency。)\n",
    "* Term Frequency(TF)：词频，即某个词语出现的频率。\n",
    "* inverse document frequency(idf)：逆文档频率,这个频率比较有意思，__主体思想就是希望找到一篇文章中最具代表性的关键词，而越具有代表性，也就意味着这个词在其他文章中出现的次数越少，所以倒序排列后的顺序越靠前意味着这个词越是这篇文章的专属，越有可能代表这篇文章关键词。__\n",
    "* [TF-idf原始文献链接](http://www.emeraldinsight.com/doi/abs/10.1108/eb026526)"
   ]
  },
  {
   "cell_type": "markdown",
   "metadata": {},
   "source": [
    "### 使用 TF-idf 提取关键词和权重，并且依次显示出来。如果你不做特殊指定的话，默认显示数量为20个关键词。"
   ]
  },
  {
   "cell_type": "code",
   "execution_count": 3,
   "metadata": {},
   "outputs": [
    {
     "name": "stderr",
     "output_type": "stream",
     "text": [
      "Building prefix dict from the default dictionary ...\n",
      "Loading model from cache c:\\users\\21pirlo\\appdata\\local\\temp\\jieba.cache\n",
      "Loading model cost 0.730 seconds.\n",
      "Prefix dict has been built succesfully.\n"
     ]
    },
    {
     "name": "stdout",
     "output_type": "stream",
     "text": [
      "优步 0.280875594782\n",
      "司机 0.119951947597\n",
      "乘客 0.105486129485\n",
      "师傅 0.0958888107815\n",
      "张师傅 0.0838162334963\n",
      "目的地 0.0753618512886\n",
      "网约车 0.0702188986954\n",
      "姐姐 0.0683412127766\n",
      "自己 0.0672533110661\n",
      "上车 0.0623276916308\n",
      "活儿 0.0600134354214\n",
      "天津 0.0569158056792\n",
      "10 0.0526641740216\n",
      "开优步 0.0526641740216\n",
      "事儿 0.048554456767\n",
      "李师傅 0.0485035501943\n",
      "天津人 0.0482653686026\n",
      "绕路 0.0478244723097\n",
      "出租车 0.0448480260748\n",
      "时候 0.0440840298591\n"
     ]
    }
   ],
   "source": [
    "# 默认显示权重前20\n",
    "for keyword, weight in extract_tags(data, withWeight=True):\n",
    "    print('%s %s' % (keyword, weight))\n",
    "# 显示内容之前，会有一些提示(红色部分)，不要管它。"
   ]
  },
  {
   "cell_type": "code",
   "execution_count": 4,
   "metadata": {},
   "outputs": [
    {
     "name": "stdout",
     "output_type": "stream",
     "text": [
      "优步 0.280875594782\n",
      "司机 0.119951947597\n",
      "乘客 0.105486129485\n",
      "师傅 0.0958888107815\n",
      "张师傅 0.0838162334963\n",
      "目的地 0.0753618512886\n",
      "网约车 0.0702188986954\n",
      "姐姐 0.0683412127766\n",
      "自己 0.0672533110661\n",
      "上车 0.0623276916308\n"
     ]
    }
   ],
   "source": [
    "# 如需要修改关键词数量，就需要指定topK参数。如topk=10\n",
    "for keyword, weight in extract_tags(data, topK=10, withWeight=True):\n",
    "    print('%s %s' % (keyword, weight))"
   ]
  },
  {
   "cell_type": "markdown",
   "metadata": {},
   "source": [
    "## TextRank \n",
    "* 首先会提取词汇，形成节点；然后依据词汇的关联，建立链接。\n",
    "* 依照连接节点的多少，给每个节点赋予一个初始的权重数值。\n",
    "* 然后就开始迭代。\n",
    "* 根据某个词所连接所有词汇的权重，重新计算该词汇的权重，然后把重新计算的权重传递下去。直到这种变化达到均衡态，权重数值不再发生改变。这与Google的网页排名算法PageRank，在思想上是一致的。\n",
    "* [TextRank原始文献链接](http://web.eecs.umich.edu/~mihalcea/papers/mihalcea.emnlp04.pdf)"
   ]
  },
  {
   "cell_type": "markdown",
   "metadata": {},
   "source": [
    "### 使用 TextRank 方式提取关键词~~和权重，并且依次显示出来。如果你不做特殊指定的话，默认显示数量为20个关键词。~~ 这里显示的数字不是关键词的权重。"
   ]
  },
  {
   "cell_type": "code",
   "execution_count": 5,
   "metadata": {},
   "outputs": [
    {
     "name": "stdout",
     "output_type": "stream",
     "text": [
      "优步 1.0\n",
      "司机 0.749405996648\n",
      "乘客 0.594284506457\n",
      "姐姐 0.485458741991\n",
      "天津 0.451113490366\n",
      "目的地 0.429410027466\n",
      "时候 0.418083863303\n",
      "作者 0.416903838153\n",
      "没有 0.357764515052\n",
      "活儿 0.291371566494\n",
      "上车 0.277010013884\n",
      "绕路 0.274608592084\n",
      "转载 0.271932903186\n",
      "出来 0.242580745393\n",
      "出租 0.238639889991\n",
      "事儿 0.228700322713\n",
      "单数 0.213450680366\n",
      "出租车 0.212049665481\n",
      "拉门 0.205816713637\n",
      "跟着 0.20513470986\n"
     ]
    }
   ],
   "source": [
    "for keyword, weight in textrank(data, withWeight=True):\n",
    "    print('%s %s' % (keyword, weight))"
   ]
  }
 ],
 "metadata": {
  "kernelspec": {
   "display_name": "Python 2",
   "language": "python",
   "name": "python2"
  },
  "language_info": {
   "codemirror_mode": {
    "name": "ipython",
    "version": 2
   },
   "file_extension": ".py",
   "mimetype": "text/x-python",
   "name": "python",
   "nbconvert_exporter": "python",
   "pygments_lexer": "ipython2",
   "version": "2.7.15"
  }
 },
 "nbformat": 4,
 "nbformat_minor": 2
}
